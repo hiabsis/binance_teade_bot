{
 "cells": [
  {
   "cell_type": "code",
   "execution_count": 1,
   "metadata": {
    "collapsed": true,
    "pycharm": {
     "name": "#%%\n"
    }
   },
   "outputs": [
    {
     "data": {
      "text/plain": "   a\n0  1\n1  2\n2  3\n3  4",
      "text/html": "<div>\n<style scoped>\n    .dataframe tbody tr th:only-of-type {\n        vertical-align: middle;\n    }\n\n    .dataframe tbody tr th {\n        vertical-align: top;\n    }\n\n    .dataframe thead th {\n        text-align: right;\n    }\n</style>\n<table border=\"1\" class=\"dataframe\">\n  <thead>\n    <tr style=\"text-align: right;\">\n      <th></th>\n      <th>a</th>\n    </tr>\n  </thead>\n  <tbody>\n    <tr>\n      <th>0</th>\n      <td>1</td>\n    </tr>\n    <tr>\n      <th>1</th>\n      <td>2</td>\n    </tr>\n    <tr>\n      <th>2</th>\n      <td>3</td>\n    </tr>\n    <tr>\n      <th>3</th>\n      <td>4</td>\n    </tr>\n  </tbody>\n</table>\n</div>"
     },
     "execution_count": 1,
     "metadata": {},
     "output_type": "execute_result"
    }
   ],
   "source": [
    "import numpy as np\n",
    "import pandas as pd\n",
    "\n",
    "series = pd.Series([1, 2, 3, np.nan, 5, 6, 7])\n",
    "\n",
    "pd.DataFrame({'a': [1, 2, 3, 4]})"
   ]
  },
  {
   "cell_type": "code",
   "execution_count": 2,
   "outputs": [
    {
     "data": {
      "text/plain": "0    1.0\n1    2.0\n2    3.0\n3    NaN\n4    5.0\n5    6.0\n6    7.0\ndtype: float64"
     },
     "execution_count": 2,
     "metadata": {},
     "output_type": "execute_result"
    }
   ],
   "source": [
    "series"
   ],
   "metadata": {
    "collapsed": false,
    "pycharm": {
     "name": "#%%\n"
    }
   }
  },
  {
   "cell_type": "code",
   "execution_count": 3,
   "outputs": [],
   "source": [
    "# create by  np\n",
    "dates = pd.date_range('20230101', periods=6)"
   ],
   "metadata": {
    "collapsed": false,
    "pycharm": {
     "name": "#%%\n"
    }
   }
  },
  {
   "cell_type": "code",
   "execution_count": 4,
   "outputs": [
    {
     "data": {
      "text/plain": "DatetimeIndex(['2023-01-01', '2023-01-02', '2023-01-03', '2023-01-04',\n               '2023-01-05', '2023-01-06'],\n              dtype='datetime64[ns]', freq='D')"
     },
     "execution_count": 4,
     "metadata": {},
     "output_type": "execute_result"
    }
   ],
   "source": [
    "dates\n"
   ],
   "metadata": {
    "collapsed": false,
    "pycharm": {
     "name": "#%%\n"
    }
   }
  },
  {
   "cell_type": "code",
   "execution_count": 5,
   "outputs": [
    {
     "data": {
      "text/plain": "                   A         B         C         D\n2023-01-01 -1.668283  0.314639 -1.718558  1.747481\n2023-01-02  1.359748  0.089898 -0.259476  1.040303\n2023-01-03 -0.067664  0.256970 -0.221017  0.055406\n2023-01-04 -0.816927 -0.854744  1.441804  0.497104\n2023-01-05 -0.509669 -0.881551  0.721404 -1.015325\n2023-01-06  0.492066  0.899491 -0.022820 -1.095368",
      "text/html": "<div>\n<style scoped>\n    .dataframe tbody tr th:only-of-type {\n        vertical-align: middle;\n    }\n\n    .dataframe tbody tr th {\n        vertical-align: top;\n    }\n\n    .dataframe thead th {\n        text-align: right;\n    }\n</style>\n<table border=\"1\" class=\"dataframe\">\n  <thead>\n    <tr style=\"text-align: right;\">\n      <th></th>\n      <th>A</th>\n      <th>B</th>\n      <th>C</th>\n      <th>D</th>\n    </tr>\n  </thead>\n  <tbody>\n    <tr>\n      <th>2023-01-01</th>\n      <td>-1.668283</td>\n      <td>0.314639</td>\n      <td>-1.718558</td>\n      <td>1.747481</td>\n    </tr>\n    <tr>\n      <th>2023-01-02</th>\n      <td>1.359748</td>\n      <td>0.089898</td>\n      <td>-0.259476</td>\n      <td>1.040303</td>\n    </tr>\n    <tr>\n      <th>2023-01-03</th>\n      <td>-0.067664</td>\n      <td>0.256970</td>\n      <td>-0.221017</td>\n      <td>0.055406</td>\n    </tr>\n    <tr>\n      <th>2023-01-04</th>\n      <td>-0.816927</td>\n      <td>-0.854744</td>\n      <td>1.441804</td>\n      <td>0.497104</td>\n    </tr>\n    <tr>\n      <th>2023-01-05</th>\n      <td>-0.509669</td>\n      <td>-0.881551</td>\n      <td>0.721404</td>\n      <td>-1.015325</td>\n    </tr>\n    <tr>\n      <th>2023-01-06</th>\n      <td>0.492066</td>\n      <td>0.899491</td>\n      <td>-0.022820</td>\n      <td>-1.095368</td>\n    </tr>\n  </tbody>\n</table>\n</div>"
     },
     "execution_count": 5,
     "metadata": {},
     "output_type": "execute_result"
    }
   ],
   "source": [
    "df = pd.DataFrame(\n",
    "    np.random.randn(6, 4), index=dates,\n",
    "    columns=list('ABCD')\n",
    ")\n",
    "\n",
    "df"
   ],
   "metadata": {
    "collapsed": false,
    "pycharm": {
     "name": "#%%\n"
    }
   }
  },
  {
   "cell_type": "code",
   "execution_count": 6,
   "outputs": [
    {
     "data": {
      "text/plain": "     A          B    C  D      E    F\n0  1.0 2023-01-01  1.0  3   test  foo\n1  1.0 2023-01-01  1.0  3  train  foo\n2  1.0 2023-01-01  1.0  3   test  foo\n3  1.0 2023-01-01  1.0  3  train  foo",
      "text/html": "<div>\n<style scoped>\n    .dataframe tbody tr th:only-of-type {\n        vertical-align: middle;\n    }\n\n    .dataframe tbody tr th {\n        vertical-align: top;\n    }\n\n    .dataframe thead th {\n        text-align: right;\n    }\n</style>\n<table border=\"1\" class=\"dataframe\">\n  <thead>\n    <tr style=\"text-align: right;\">\n      <th></th>\n      <th>A</th>\n      <th>B</th>\n      <th>C</th>\n      <th>D</th>\n      <th>E</th>\n      <th>F</th>\n    </tr>\n  </thead>\n  <tbody>\n    <tr>\n      <th>0</th>\n      <td>1.0</td>\n      <td>2023-01-01</td>\n      <td>1.0</td>\n      <td>3</td>\n      <td>test</td>\n      <td>foo</td>\n    </tr>\n    <tr>\n      <th>1</th>\n      <td>1.0</td>\n      <td>2023-01-01</td>\n      <td>1.0</td>\n      <td>3</td>\n      <td>train</td>\n      <td>foo</td>\n    </tr>\n    <tr>\n      <th>2</th>\n      <td>1.0</td>\n      <td>2023-01-01</td>\n      <td>1.0</td>\n      <td>3</td>\n      <td>test</td>\n      <td>foo</td>\n    </tr>\n    <tr>\n      <th>3</th>\n      <td>1.0</td>\n      <td>2023-01-01</td>\n      <td>1.0</td>\n      <td>3</td>\n      <td>train</td>\n      <td>foo</td>\n    </tr>\n  </tbody>\n</table>\n</div>"
     },
     "execution_count": 6,
     "metadata": {},
     "output_type": "execute_result"
    }
   ],
   "source": [
    "df2 = pd.DataFrame(\n",
    "    {\n",
    "        'A': 1.0,\n",
    "        'B': pd.Timestamp('20230101'),\n",
    "        'C': pd.Series(1, index=list(range(4)), dtype='float32'),\n",
    "        'D': np.array([3] * 4, dtype='int32'),\n",
    "        'E': pd.Categorical(['test','train','test','train']),\n",
    "        'F': 'foo',\n",
    "    }\n",
    ")\n",
    "df2"
   ],
   "metadata": {
    "collapsed": false,
    "pycharm": {
     "name": "#%%\n"
    }
   }
  },
  {
   "cell_type": "code",
   "execution_count": 8,
   "outputs": [
    {
     "data": {
      "text/plain": "[3, 3, 3, 3, 3, 3, 3, 3, 3, 3, 3, 3]"
     },
     "execution_count": 8,
     "metadata": {},
     "output_type": "execute_result"
    }
   ],
   "source": [
    "[3] * 12"
   ],
   "metadata": {
    "collapsed": false,
    "pycharm": {
     "name": "#%%\n"
    }
   }
  },
  {
   "cell_type": "code",
   "execution_count": 9,
   "outputs": [
    {
     "data": {
      "text/plain": "                   A         B         C         D\n2023-01-01 -1.668283  0.314639 -1.718558  1.747481\n2023-01-02  1.359748  0.089898 -0.259476  1.040303\n2023-01-03 -0.067664  0.256970 -0.221017  0.055406\n2023-01-04 -0.816927 -0.854744  1.441804  0.497104\n2023-01-05 -0.509669 -0.881551  0.721404 -1.015325",
      "text/html": "<div>\n<style scoped>\n    .dataframe tbody tr th:only-of-type {\n        vertical-align: middle;\n    }\n\n    .dataframe tbody tr th {\n        vertical-align: top;\n    }\n\n    .dataframe thead th {\n        text-align: right;\n    }\n</style>\n<table border=\"1\" class=\"dataframe\">\n  <thead>\n    <tr style=\"text-align: right;\">\n      <th></th>\n      <th>A</th>\n      <th>B</th>\n      <th>C</th>\n      <th>D</th>\n    </tr>\n  </thead>\n  <tbody>\n    <tr>\n      <th>2023-01-01</th>\n      <td>-1.668283</td>\n      <td>0.314639</td>\n      <td>-1.718558</td>\n      <td>1.747481</td>\n    </tr>\n    <tr>\n      <th>2023-01-02</th>\n      <td>1.359748</td>\n      <td>0.089898</td>\n      <td>-0.259476</td>\n      <td>1.040303</td>\n    </tr>\n    <tr>\n      <th>2023-01-03</th>\n      <td>-0.067664</td>\n      <td>0.256970</td>\n      <td>-0.221017</td>\n      <td>0.055406</td>\n    </tr>\n    <tr>\n      <th>2023-01-04</th>\n      <td>-0.816927</td>\n      <td>-0.854744</td>\n      <td>1.441804</td>\n      <td>0.497104</td>\n    </tr>\n    <tr>\n      <th>2023-01-05</th>\n      <td>-0.509669</td>\n      <td>-0.881551</td>\n      <td>0.721404</td>\n      <td>-1.015325</td>\n    </tr>\n  </tbody>\n</table>\n</div>"
     },
     "execution_count": 9,
     "metadata": {},
     "output_type": "execute_result"
    }
   ],
   "source": [
    "df.head()"
   ],
   "metadata": {
    "collapsed": false,
    "pycharm": {
     "name": "#%%\n"
    }
   }
  },
  {
   "cell_type": "code",
   "execution_count": 10,
   "outputs": [
    {
     "data": {
      "text/plain": "                   A         B         C         D\n2023-01-02  1.359748  0.089898 -0.259476  1.040303\n2023-01-03 -0.067664  0.256970 -0.221017  0.055406\n2023-01-04 -0.816927 -0.854744  1.441804  0.497104\n2023-01-05 -0.509669 -0.881551  0.721404 -1.015325\n2023-01-06  0.492066  0.899491 -0.022820 -1.095368",
      "text/html": "<div>\n<style scoped>\n    .dataframe tbody tr th:only-of-type {\n        vertical-align: middle;\n    }\n\n    .dataframe tbody tr th {\n        vertical-align: top;\n    }\n\n    .dataframe thead th {\n        text-align: right;\n    }\n</style>\n<table border=\"1\" class=\"dataframe\">\n  <thead>\n    <tr style=\"text-align: right;\">\n      <th></th>\n      <th>A</th>\n      <th>B</th>\n      <th>C</th>\n      <th>D</th>\n    </tr>\n  </thead>\n  <tbody>\n    <tr>\n      <th>2023-01-02</th>\n      <td>1.359748</td>\n      <td>0.089898</td>\n      <td>-0.259476</td>\n      <td>1.040303</td>\n    </tr>\n    <tr>\n      <th>2023-01-03</th>\n      <td>-0.067664</td>\n      <td>0.256970</td>\n      <td>-0.221017</td>\n      <td>0.055406</td>\n    </tr>\n    <tr>\n      <th>2023-01-04</th>\n      <td>-0.816927</td>\n      <td>-0.854744</td>\n      <td>1.441804</td>\n      <td>0.497104</td>\n    </tr>\n    <tr>\n      <th>2023-01-05</th>\n      <td>-0.509669</td>\n      <td>-0.881551</td>\n      <td>0.721404</td>\n      <td>-1.015325</td>\n    </tr>\n    <tr>\n      <th>2023-01-06</th>\n      <td>0.492066</td>\n      <td>0.899491</td>\n      <td>-0.022820</td>\n      <td>-1.095368</td>\n    </tr>\n  </tbody>\n</table>\n</div>"
     },
     "execution_count": 10,
     "metadata": {},
     "output_type": "execute_result"
    }
   ],
   "source": [
    "df.tail()"
   ],
   "metadata": {
    "collapsed": false,
    "pycharm": {
     "name": "#%%\n"
    }
   }
  },
  {
   "cell_type": "code",
   "execution_count": 11,
   "outputs": [
    {
     "data": {
      "text/plain": "                   A         B        C         D\n2023-01-06  0.492066  0.899491 -0.02282 -1.095368",
      "text/html": "<div>\n<style scoped>\n    .dataframe tbody tr th:only-of-type {\n        vertical-align: middle;\n    }\n\n    .dataframe tbody tr th {\n        vertical-align: top;\n    }\n\n    .dataframe thead th {\n        text-align: right;\n    }\n</style>\n<table border=\"1\" class=\"dataframe\">\n  <thead>\n    <tr style=\"text-align: right;\">\n      <th></th>\n      <th>A</th>\n      <th>B</th>\n      <th>C</th>\n      <th>D</th>\n    </tr>\n  </thead>\n  <tbody>\n    <tr>\n      <th>2023-01-06</th>\n      <td>0.492066</td>\n      <td>0.899491</td>\n      <td>-0.02282</td>\n      <td>-1.095368</td>\n    </tr>\n  </tbody>\n</table>\n</div>"
     },
     "execution_count": 11,
     "metadata": {},
     "output_type": "execute_result"
    }
   ],
   "source": [
    "df.tail(1)"
   ],
   "metadata": {
    "collapsed": false,
    "pycharm": {
     "name": "#%%\n"
    }
   }
  },
  {
   "cell_type": "code",
   "execution_count": 12,
   "outputs": [
    {
     "data": {
      "text/plain": "                   A         B         C         D\n2023-01-01 -1.668283  0.314639 -1.718558  1.747481",
      "text/html": "<div>\n<style scoped>\n    .dataframe tbody tr th:only-of-type {\n        vertical-align: middle;\n    }\n\n    .dataframe tbody tr th {\n        vertical-align: top;\n    }\n\n    .dataframe thead th {\n        text-align: right;\n    }\n</style>\n<table border=\"1\" class=\"dataframe\">\n  <thead>\n    <tr style=\"text-align: right;\">\n      <th></th>\n      <th>A</th>\n      <th>B</th>\n      <th>C</th>\n      <th>D</th>\n    </tr>\n  </thead>\n  <tbody>\n    <tr>\n      <th>2023-01-01</th>\n      <td>-1.668283</td>\n      <td>0.314639</td>\n      <td>-1.718558</td>\n      <td>1.747481</td>\n    </tr>\n  </tbody>\n</table>\n</div>"
     },
     "execution_count": 12,
     "metadata": {},
     "output_type": "execute_result"
    }
   ],
   "source": [
    "df.head(1)"
   ],
   "metadata": {
    "collapsed": false,
    "pycharm": {
     "name": "#%%\n"
    }
   }
  },
  {
   "cell_type": "code",
   "execution_count": 13,
   "outputs": [
    {
     "data": {
      "text/plain": "DatetimeIndex(['2023-01-01', '2023-01-02', '2023-01-03', '2023-01-04',\n               '2023-01-05', '2023-01-06'],\n              dtype='datetime64[ns]', freq='D')"
     },
     "execution_count": 13,
     "metadata": {},
     "output_type": "execute_result"
    }
   ],
   "source": [
    "df.index"
   ],
   "metadata": {
    "collapsed": false,
    "pycharm": {
     "name": "#%%\n"
    }
   }
  },
  {
   "cell_type": "code",
   "execution_count": 14,
   "outputs": [
    {
     "data": {
      "text/plain": "Index(['A', 'B', 'C', 'D'], dtype='object')"
     },
     "execution_count": 14,
     "metadata": {},
     "output_type": "execute_result"
    }
   ],
   "source": [
    "df.columns"
   ],
   "metadata": {
    "collapsed": false,
    "pycharm": {
     "name": "#%%\n"
    }
   }
  },
  {
   "cell_type": "code",
   "execution_count": 16,
   "outputs": [
    {
     "data": {
      "text/plain": "'B'"
     },
     "execution_count": 16,
     "metadata": {},
     "output_type": "execute_result"
    }
   ],
   "source": [
    "df.columns.array[1]"
   ],
   "metadata": {
    "collapsed": false,
    "pycharm": {
     "name": "#%%\n"
    }
   }
  },
  {
   "cell_type": "code",
   "execution_count": 17,
   "outputs": [
    {
     "data": {
      "text/plain": "array([[-1.66828297,  0.3146385 , -1.71855826,  1.74748067],\n       [ 1.35974793,  0.08989786, -0.25947638,  1.04030303],\n       [-0.06766435,  0.25697014, -0.22101689,  0.05540612],\n       [-0.81692657, -0.85474414,  1.4418045 ,  0.49710408],\n       [-0.50966909, -0.88155113,  0.72140425, -1.01532473],\n       [ 0.49206611,  0.89949051, -0.02282004, -1.0953679 ]])"
     },
     "execution_count": 17,
     "metadata": {},
     "output_type": "execute_result"
    }
   ],
   "source": [
    "df.to_numpy()"
   ],
   "metadata": {
    "collapsed": false,
    "pycharm": {
     "name": "#%%\n"
    }
   }
  },
  {
   "cell_type": "code",
   "execution_count": 18,
   "outputs": [
    {
     "data": {
      "text/plain": "              A         B         C         D\ncount  6.000000  6.000000  6.000000  6.000000\nmean  -0.201788 -0.029216 -0.009777  0.204934\nstd    1.054667  0.704953  1.064781  1.128258\nmin   -1.668283 -0.881551 -1.718558 -1.095368\n25%   -0.740112 -0.618584 -0.249862 -0.747642\n50%   -0.288667  0.173434 -0.121918  0.276255\n75%    0.352133  0.300221  0.535348  0.904503\nmax    1.359748  0.899491  1.441804  1.747481",
      "text/html": "<div>\n<style scoped>\n    .dataframe tbody tr th:only-of-type {\n        vertical-align: middle;\n    }\n\n    .dataframe tbody tr th {\n        vertical-align: top;\n    }\n\n    .dataframe thead th {\n        text-align: right;\n    }\n</style>\n<table border=\"1\" class=\"dataframe\">\n  <thead>\n    <tr style=\"text-align: right;\">\n      <th></th>\n      <th>A</th>\n      <th>B</th>\n      <th>C</th>\n      <th>D</th>\n    </tr>\n  </thead>\n  <tbody>\n    <tr>\n      <th>count</th>\n      <td>6.000000</td>\n      <td>6.000000</td>\n      <td>6.000000</td>\n      <td>6.000000</td>\n    </tr>\n    <tr>\n      <th>mean</th>\n      <td>-0.201788</td>\n      <td>-0.029216</td>\n      <td>-0.009777</td>\n      <td>0.204934</td>\n    </tr>\n    <tr>\n      <th>std</th>\n      <td>1.054667</td>\n      <td>0.704953</td>\n      <td>1.064781</td>\n      <td>1.128258</td>\n    </tr>\n    <tr>\n      <th>min</th>\n      <td>-1.668283</td>\n      <td>-0.881551</td>\n      <td>-1.718558</td>\n      <td>-1.095368</td>\n    </tr>\n    <tr>\n      <th>25%</th>\n      <td>-0.740112</td>\n      <td>-0.618584</td>\n      <td>-0.249862</td>\n      <td>-0.747642</td>\n    </tr>\n    <tr>\n      <th>50%</th>\n      <td>-0.288667</td>\n      <td>0.173434</td>\n      <td>-0.121918</td>\n      <td>0.276255</td>\n    </tr>\n    <tr>\n      <th>75%</th>\n      <td>0.352133</td>\n      <td>0.300221</td>\n      <td>0.535348</td>\n      <td>0.904503</td>\n    </tr>\n    <tr>\n      <th>max</th>\n      <td>1.359748</td>\n      <td>0.899491</td>\n      <td>1.441804</td>\n      <td>1.747481</td>\n    </tr>\n  </tbody>\n</table>\n</div>"
     },
     "execution_count": 18,
     "metadata": {},
     "output_type": "execute_result"
    }
   ],
   "source": [
    "df.describe()"
   ],
   "metadata": {
    "collapsed": false,
    "pycharm": {
     "name": "#%%\n"
    }
   }
  },
  {
   "cell_type": "code",
   "execution_count": 20,
   "outputs": [
    {
     "data": {
      "text/plain": "              A         B         C         D\ncount  6.000000  6.000000  6.000000  6.000000\nmean  -0.201788 -0.029216 -0.009777  0.204934",
      "text/html": "<div>\n<style scoped>\n    .dataframe tbody tr th:only-of-type {\n        vertical-align: middle;\n    }\n\n    .dataframe tbody tr th {\n        vertical-align: top;\n    }\n\n    .dataframe thead th {\n        text-align: right;\n    }\n</style>\n<table border=\"1\" class=\"dataframe\">\n  <thead>\n    <tr style=\"text-align: right;\">\n      <th></th>\n      <th>A</th>\n      <th>B</th>\n      <th>C</th>\n      <th>D</th>\n    </tr>\n  </thead>\n  <tbody>\n    <tr>\n      <th>count</th>\n      <td>6.000000</td>\n      <td>6.000000</td>\n      <td>6.000000</td>\n      <td>6.000000</td>\n    </tr>\n    <tr>\n      <th>mean</th>\n      <td>-0.201788</td>\n      <td>-0.029216</td>\n      <td>-0.009777</td>\n      <td>0.204934</td>\n    </tr>\n  </tbody>\n</table>\n</div>"
     },
     "execution_count": 20,
     "metadata": {},
     "output_type": "execute_result"
    }
   ],
   "source": [
    "df.describe().head(2)"
   ],
   "metadata": {
    "collapsed": false,
    "pycharm": {
     "name": "#%%\n"
    }
   }
  },
  {
   "cell_type": "code",
   "execution_count": 21,
   "outputs": [
    {
     "data": {
      "text/plain": "   2023-01-01  2023-01-02  2023-01-03  2023-01-04  2023-01-05  2023-01-06\nA   -1.668283    1.359748   -0.067664   -0.816927   -0.509669    0.492066\nB    0.314639    0.089898    0.256970   -0.854744   -0.881551    0.899491\nC   -1.718558   -0.259476   -0.221017    1.441804    0.721404   -0.022820\nD    1.747481    1.040303    0.055406    0.497104   -1.015325   -1.095368",
      "text/html": "<div>\n<style scoped>\n    .dataframe tbody tr th:only-of-type {\n        vertical-align: middle;\n    }\n\n    .dataframe tbody tr th {\n        vertical-align: top;\n    }\n\n    .dataframe thead th {\n        text-align: right;\n    }\n</style>\n<table border=\"1\" class=\"dataframe\">\n  <thead>\n    <tr style=\"text-align: right;\">\n      <th></th>\n      <th>2023-01-01</th>\n      <th>2023-01-02</th>\n      <th>2023-01-03</th>\n      <th>2023-01-04</th>\n      <th>2023-01-05</th>\n      <th>2023-01-06</th>\n    </tr>\n  </thead>\n  <tbody>\n    <tr>\n      <th>A</th>\n      <td>-1.668283</td>\n      <td>1.359748</td>\n      <td>-0.067664</td>\n      <td>-0.816927</td>\n      <td>-0.509669</td>\n      <td>0.492066</td>\n    </tr>\n    <tr>\n      <th>B</th>\n      <td>0.314639</td>\n      <td>0.089898</td>\n      <td>0.256970</td>\n      <td>-0.854744</td>\n      <td>-0.881551</td>\n      <td>0.899491</td>\n    </tr>\n    <tr>\n      <th>C</th>\n      <td>-1.718558</td>\n      <td>-0.259476</td>\n      <td>-0.221017</td>\n      <td>1.441804</td>\n      <td>0.721404</td>\n      <td>-0.022820</td>\n    </tr>\n    <tr>\n      <th>D</th>\n      <td>1.747481</td>\n      <td>1.040303</td>\n      <td>0.055406</td>\n      <td>0.497104</td>\n      <td>-1.015325</td>\n      <td>-1.095368</td>\n    </tr>\n  </tbody>\n</table>\n</div>"
     },
     "execution_count": 21,
     "metadata": {},
     "output_type": "execute_result"
    }
   ],
   "source": [
    "df.T"
   ],
   "metadata": {
    "collapsed": false,
    "pycharm": {
     "name": "#%%\n"
    }
   }
  },
  {
   "cell_type": "code",
   "execution_count": 23,
   "outputs": [
    {
     "data": {
      "text/plain": "                   A         B         C         D\n2023-01-01 -1.668283  0.314639 -1.718558  1.747481\n2023-01-02  1.359748  0.089898 -0.259476  1.040303\n2023-01-03 -0.067664  0.256970 -0.221017  0.055406\n2023-01-04 -0.816927 -0.854744  1.441804  0.497104\n2023-01-05 -0.509669 -0.881551  0.721404 -1.015325\n2023-01-06  0.492066  0.899491 -0.022820 -1.095368",
      "text/html": "<div>\n<style scoped>\n    .dataframe tbody tr th:only-of-type {\n        vertical-align: middle;\n    }\n\n    .dataframe tbody tr th {\n        vertical-align: top;\n    }\n\n    .dataframe thead th {\n        text-align: right;\n    }\n</style>\n<table border=\"1\" class=\"dataframe\">\n  <thead>\n    <tr style=\"text-align: right;\">\n      <th></th>\n      <th>A</th>\n      <th>B</th>\n      <th>C</th>\n      <th>D</th>\n    </tr>\n  </thead>\n  <tbody>\n    <tr>\n      <th>2023-01-01</th>\n      <td>-1.668283</td>\n      <td>0.314639</td>\n      <td>-1.718558</td>\n      <td>1.747481</td>\n    </tr>\n    <tr>\n      <th>2023-01-02</th>\n      <td>1.359748</td>\n      <td>0.089898</td>\n      <td>-0.259476</td>\n      <td>1.040303</td>\n    </tr>\n    <tr>\n      <th>2023-01-03</th>\n      <td>-0.067664</td>\n      <td>0.256970</td>\n      <td>-0.221017</td>\n      <td>0.055406</td>\n    </tr>\n    <tr>\n      <th>2023-01-04</th>\n      <td>-0.816927</td>\n      <td>-0.854744</td>\n      <td>1.441804</td>\n      <td>0.497104</td>\n    </tr>\n    <tr>\n      <th>2023-01-05</th>\n      <td>-0.509669</td>\n      <td>-0.881551</td>\n      <td>0.721404</td>\n      <td>-1.015325</td>\n    </tr>\n    <tr>\n      <th>2023-01-06</th>\n      <td>0.492066</td>\n      <td>0.899491</td>\n      <td>-0.022820</td>\n      <td>-1.095368</td>\n    </tr>\n  </tbody>\n</table>\n</div>"
     },
     "execution_count": 23,
     "metadata": {},
     "output_type": "execute_result"
    }
   ],
   "source": [
    "df.T.T"
   ],
   "metadata": {
    "collapsed": false,
    "pycharm": {
     "name": "#%%\n"
    }
   }
  },
  {
   "cell_type": "code",
   "execution_count": 25,
   "outputs": [
    {
     "data": {
      "text/plain": "                   D         C         B         A\n2023-01-01  1.747481 -1.718558  0.314639 -1.668283\n2023-01-02  1.040303 -0.259476  0.089898  1.359748\n2023-01-03  0.055406 -0.221017  0.256970 -0.067664\n2023-01-04  0.497104  1.441804 -0.854744 -0.816927\n2023-01-05 -1.015325  0.721404 -0.881551 -0.509669\n2023-01-06 -1.095368 -0.022820  0.899491  0.492066",
      "text/html": "<div>\n<style scoped>\n    .dataframe tbody tr th:only-of-type {\n        vertical-align: middle;\n    }\n\n    .dataframe tbody tr th {\n        vertical-align: top;\n    }\n\n    .dataframe thead th {\n        text-align: right;\n    }\n</style>\n<table border=\"1\" class=\"dataframe\">\n  <thead>\n    <tr style=\"text-align: right;\">\n      <th></th>\n      <th>D</th>\n      <th>C</th>\n      <th>B</th>\n      <th>A</th>\n    </tr>\n  </thead>\n  <tbody>\n    <tr>\n      <th>2023-01-01</th>\n      <td>1.747481</td>\n      <td>-1.718558</td>\n      <td>0.314639</td>\n      <td>-1.668283</td>\n    </tr>\n    <tr>\n      <th>2023-01-02</th>\n      <td>1.040303</td>\n      <td>-0.259476</td>\n      <td>0.089898</td>\n      <td>1.359748</td>\n    </tr>\n    <tr>\n      <th>2023-01-03</th>\n      <td>0.055406</td>\n      <td>-0.221017</td>\n      <td>0.256970</td>\n      <td>-0.067664</td>\n    </tr>\n    <tr>\n      <th>2023-01-04</th>\n      <td>0.497104</td>\n      <td>1.441804</td>\n      <td>-0.854744</td>\n      <td>-0.816927</td>\n    </tr>\n    <tr>\n      <th>2023-01-05</th>\n      <td>-1.015325</td>\n      <td>0.721404</td>\n      <td>-0.881551</td>\n      <td>-0.509669</td>\n    </tr>\n    <tr>\n      <th>2023-01-06</th>\n      <td>-1.095368</td>\n      <td>-0.022820</td>\n      <td>0.899491</td>\n      <td>0.492066</td>\n    </tr>\n  </tbody>\n</table>\n</div>"
     },
     "execution_count": 25,
     "metadata": {},
     "output_type": "execute_result"
    }
   ],
   "source": [
    "df.sort_index(axis=1,ascending=False)"
   ],
   "metadata": {
    "collapsed": false,
    "pycharm": {
     "name": "#%%\n"
    }
   }
  },
  {
   "cell_type": "code",
   "execution_count": 26,
   "outputs": [
    {
     "data": {
      "text/plain": "                   A         B         C         D\n2023-01-05 -0.509669 -0.881551  0.721404 -1.015325\n2023-01-04 -0.816927 -0.854744  1.441804  0.497104\n2023-01-02  1.359748  0.089898 -0.259476  1.040303\n2023-01-03 -0.067664  0.256970 -0.221017  0.055406\n2023-01-01 -1.668283  0.314639 -1.718558  1.747481\n2023-01-06  0.492066  0.899491 -0.022820 -1.095368",
      "text/html": "<div>\n<style scoped>\n    .dataframe tbody tr th:only-of-type {\n        vertical-align: middle;\n    }\n\n    .dataframe tbody tr th {\n        vertical-align: top;\n    }\n\n    .dataframe thead th {\n        text-align: right;\n    }\n</style>\n<table border=\"1\" class=\"dataframe\">\n  <thead>\n    <tr style=\"text-align: right;\">\n      <th></th>\n      <th>A</th>\n      <th>B</th>\n      <th>C</th>\n      <th>D</th>\n    </tr>\n  </thead>\n  <tbody>\n    <tr>\n      <th>2023-01-05</th>\n      <td>-0.509669</td>\n      <td>-0.881551</td>\n      <td>0.721404</td>\n      <td>-1.015325</td>\n    </tr>\n    <tr>\n      <th>2023-01-04</th>\n      <td>-0.816927</td>\n      <td>-0.854744</td>\n      <td>1.441804</td>\n      <td>0.497104</td>\n    </tr>\n    <tr>\n      <th>2023-01-02</th>\n      <td>1.359748</td>\n      <td>0.089898</td>\n      <td>-0.259476</td>\n      <td>1.040303</td>\n    </tr>\n    <tr>\n      <th>2023-01-03</th>\n      <td>-0.067664</td>\n      <td>0.256970</td>\n      <td>-0.221017</td>\n      <td>0.055406</td>\n    </tr>\n    <tr>\n      <th>2023-01-01</th>\n      <td>-1.668283</td>\n      <td>0.314639</td>\n      <td>-1.718558</td>\n      <td>1.747481</td>\n    </tr>\n    <tr>\n      <th>2023-01-06</th>\n      <td>0.492066</td>\n      <td>0.899491</td>\n      <td>-0.022820</td>\n      <td>-1.095368</td>\n    </tr>\n  </tbody>\n</table>\n</div>"
     },
     "execution_count": 26,
     "metadata": {},
     "output_type": "execute_result"
    }
   ],
   "source": [
    "df.sort_values(by='B')"
   ],
   "metadata": {
    "collapsed": false,
    "pycharm": {
     "name": "#%%\n"
    }
   }
  },
  {
   "cell_type": "code",
   "execution_count": null,
   "outputs": [],
   "source": [],
   "metadata": {
    "collapsed": false,
    "pycharm": {
     "name": "#%%\n"
    }
   }
  }
 ],
 "metadata": {
  "kernelspec": {
   "display_name": "Python 3",
   "language": "python",
   "name": "python3"
  },
  "language_info": {
   "codemirror_mode": {
    "name": "ipython",
    "version": 2
   },
   "file_extension": ".py",
   "mimetype": "text/x-python",
   "name": "python",
   "nbconvert_exporter": "python",
   "pygments_lexer": "ipython2",
   "version": "2.7.6"
  }
 },
 "nbformat": 4,
 "nbformat_minor": 0
}